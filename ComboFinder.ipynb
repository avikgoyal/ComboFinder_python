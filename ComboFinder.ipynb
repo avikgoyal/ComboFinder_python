{
  "nbformat": 4,
  "nbformat_minor": 0,
  "metadata": {
    "colab": {
      "provenance": [],
      "authorship_tag": "ABX9TyOeeFkvv+yODMYADN3G4Nhs",
      "include_colab_link": true
    },
    "kernelspec": {
      "name": "python3",
      "display_name": "Python 3"
    },
    "language_info": {
      "name": "python"
    }
  },
  "cells": [
    {
      "cell_type": "markdown",
      "metadata": {
        "id": "view-in-github",
        "colab_type": "text"
      },
      "source": [
        "<a href=\"https://colab.research.google.com/github/arushi3838/ComboFinder_python/blob/main/ComboFinder.ipynb\" target=\"_parent\"><img src=\"https://colab.research.google.com/assets/colab-badge.svg\" alt=\"Open In Colab\"/></a>"
      ]
    },
    {
      "cell_type": "markdown",
      "source": [
        "ComboFinder\n",
        "\n",
        "Problem Statement:\n",
        "\n",
        "Find all the list of products whose sum-of-price is between 290 and 310.\n",
        "\n",
        "ProductList = {p1:10, p2:15, p3:20, p4:25, p5:30, p6:35, p7:50}"
      ],
      "metadata": {
        "id": "7Jyvc9i7zGQm"
      }
    },
    {
      "cell_type": "code",
      "execution_count": 46,
      "metadata": {
        "id": "ZPga9xrHzDxD",
        "colab": {
          "base_uri": "https://localhost:8080/"
        },
        "outputId": "f56fcc00-cc70-4ca6-c16d-66321e8f61e0"
      },
      "outputs": [
        {
          "output_type": "stream",
          "name": "stdout",
          "text": [
            "Enter the number of iterations1000\n",
            "The list of products whose sum-of-price is between 290 and 310 is :-  {('p5', 'p4', 'p1', 'p6', 'p3', 'p11', 'p8', 'p3', 'p10'), ('p12', 'p14', 'p2', 'p3', 'p4', 'p4', 'p1', 'p2', 'p10'), ('p3', 'p2', 'p7', 'p5', 'p10', 'p14', 'p2', 'p14', 'p4'), ('p2', 'p10', 'p6', 'p3', 'p6', 'p11', 'p3', 'p2', 'p6'), ('p12', 'p1', 'p5', 'p4', 'p2', 'p3', 'p13', 'p3', 'p6'), ('p12', 'p3', 'p2', 'p5', 'p7', 'p2', 'p2', 'p14', 'p14'), ('p8', 'p5', 'p8', 'p2', 'p5', 'p4', 'p6', 'p12', 'p2'), ('p14', 'p2', 'p4', 'p10', 'p2', 'p8', 'p7', 'p3', 'p5'), ('p5', 'p11', 'p3', 'p1', 'p2', 'p4', 'p3', 'p11', 'p14'), ('p5', 'p10', 'p1', 'p5', 'p10', 'p2', 'p2', 'p3', 'p11'), ('p7', 'p4', 'p11', 'p2', 'p4', 'p4', 'p1', 'p11', 'p2'), ('p3', 'p3', 'p13', 'p2', 'p14', 'p3', 'p4', 'p9', 'p8'), ('p9', 'p3', 'p3', 'p6', 'p4', 'p6', 'p3', 'p8', 'p7'), ('p13', 'p2', 'p4', 'p1', 'p7', 'p9', 'p7', 'p2', 'p1'), ('p14', 'p5', 'p2', 'p8', 'p6', 'p7', 'p9', 'p1', 'p3'), ('p1', 'p1', 'p10', 'p3', 'p8', 'p7', 'p10', 'p5', 'p1'), ('p2', 'p2', 'p2', 'p3', 'p2', 'p6', 'p12', 'p5', 'p12'), ('p9', 'p5', 'p3', 'p1', 'p1', 'p10', 'p6', 'p2', 'p9'), ('p1', 'p3', 'p12', 'p9', 'p14', 'p4', 'p4', 'p2', 'p3'), ('p7', 'p6', 'p14', 'p1', 'p13', 'p6', 'p2', 'p2', 'p5'), ('p10', 'p4', 'p14', 'p2', 'p2', 'p3', 'p3', 'p5', 'p10'), ('p14', 'p7', 'p5', 'p1', 'p6', 'p1', 'p7', 'p5', 'p8'), ('p6', 'p3', 'p7', 'p3', 'p2', 'p8', 'p14', 'p4', 'p10'), ('p3', 'p4', 'p5', 'p5', 'p7', 'p7', 'p14', 'p3', 'p8'), ('p4', 'p4', 'p8', 'p5', 'p13', 'p1', 'p7', 'p6', 'p1'), ('p7', 'p4', 'p2', 'p2', 'p4', 'p11', 'p1', 'p10', 'p6'), ('p14', 'p1', 'p8', 'p4', 'p5', 'p5', 'p12', 'p14', 'p1'), ('p2', 'p12', 'p5', 'p2', 'p1', 'p13', 'p2', 'p14', 'p5'), ('p4', 'p1', 'p5', 'p4', 'p1', 'p13', 'p11', 'p8', 'p4'), ('p8', 'p2', 'p2', 'p14', 'p6', 'p2', 'p4', 'p11', 'p8'), ('p8', 'p2', 'p4', 'p11', 'p7', 'p1', 'p8', 'p4', 'p4'), ('p3', 'p3', 'p8', 'p5', 'p2', 'p11', 'p2', 'p7', 'p8'), ('p8', 'p6', 'p10', 'p2', 'p1', 'p6', 'p3', 'p2', 'p10'), ('p1', 'p2', 'p9', 'p5', 'p2', 'p9', 'p10', 'p14', 'p4'), ('p4', 'p14', 'p14', 'p9', 'p1', 'p2', 'p5', 'p9', 'p3'), ('p1', 'p14', 'p4', 'p8', 'p11', 'p9', 'p5', 'p3', 'p2'), ('p14', 'p5', 'p3', 'p8', 'p2', 'p3', 'p9', 'p9', 'p4'), ('p2', 'p2', 'p1', 'p10', 'p4', 'p7', 'p1', 'p8', 'p13'), ('p14', 'p14', 'p3', 'p5', 'p2', 'p7', 'p5', 'p2', 'p8'), ('p1', 'p13', 'p9', 'p5', 'p6', 'p14', 'p5', 'p1', 'p1'), ('p5', 'p11', 'p4', 'p6', 'p1', 'p14', 'p6', 'p4', 'p8'), ('p5', 'p6', 'p1', 'p12', 'p5', 'p3', 'p4', 'p10', 'p2'), ('p5', 'p1', 'p1', 'p7', 'p12', 'p6', 'p10', 'p5', 'p1'), ('p8', 'p4', 'p2', 'p2', 'p14', 'p6', 'p4', 'p12', 'p2'), ('p13', 'p2', 'p2', 'p4', 'p12', 'p5', 'p8', 'p1', 'p1'), ('p1', 'p13', 'p4', 'p1', 'p7', 'p14', 'p1', 'p8', 'p7'), ('p14', 'p2', 'p2', 'p8', 'p1', 'p4', 'p5', 'p11', 'p14'), ('p6', 'p6', 'p11', 'p1', 'p10', 'p4', 'p6', 'p6', 'p1'), ('p1', 'p9', 'p11', 'p10', 'p4', 'p4', 'p2', 'p8', 'p1'), ('p5', 'p7', 'p2', 'p9', 'p14', 'p1', 'p7', 'p3', 'p3'), ('p5', 'p3', 'p10', 'p10', 'p2', 'p2', 'p7', 'p7', 'p1'), ('p3', 'p6', 'p1', 'p7', 'p11', 'p5', 'p2', 'p1', 'p9'), ('p4', 'p2', 'p10', 'p2', 'p3', 'p4', 'p4', 'p12', 'p7'), ('p6', 'p1', 'p5', 'p14', 'p2', 'p10', 'p9', 'p8', 'p2'), ('p10', 'p14', 'p6', 'p14', 'p6', 'p2', 'p1', 'p5', 'p3'), ('p2', 'p1', 'p1', 'p2', 'p6', 'p5', 'p10', 'p8', 'p12'), ('p5', 'p12', 'p5', 'p3', 'p2', 'p2', 'p4', 'p5', 'p13'), ('p1', 'p7', 'p10', 'p1', 'p7', 'p6', 'p1', 'p4', 'p14'), ('p1', 'p7', 'p4', 'p2', 'p6', 'p8', 'p7', 'p10', 'p4'), ('p1', 'p2', 'p3', 'p11', 'p2', 'p14', 'p9', 'p14', 'p4'), ('p4', 'p5', 'p4', 'p2', 'p13', 'p6', 'p6', 'p7', 'p1'), ('p4', 'p14', 'p14', 'p2', 'p6', 'p8', 'p6', 'p4', 'p14'), ('p8', 'p7', 'p3', 'p14', 'p9', 'p3', 'p3', 'p14', 'p1'), ('p1', 'p1', 'p5', 'p8', 'p7', 'p1', 'p10', 'p8', 'p10'), ('p7', 'p9', 'p2', 'p2', 'p2', 'p12', 'p2', 'p8', 'p4'), ('p7', 'p2', 'p2', 'p8', 'p7', 'p8', 'p3', 'p1', 'p13'), ('p1', 'p7', 'p2', 'p9', 'p3', 'p6', 'p5', 'p6', 'p14'), ('p2', 'p14', 'p2', 'p3', 'p7', 'p11', 'p7', 'p1', 'p6'), ('p1', 'p8', 'p14', 'p7', 'p4', 'p5', 'p6', 'p6', 'p6'), ('p1', 'p9', 'p4', 'p1', 'p14', 'p1', 'p6', 'p10', 'p9'), ('p7', 'p9', 'p1', 'p6', 'p1', 'p14', 'p7', 'p2', 'p3'), ('p2', 'p1', 'p13', 'p14', 'p1', 'p6', 'p12', 'p1', 'p8'), ('p6', 'p10', 'p2', 'p1', 'p11', 'p6', 'p1', 'p5', 'p14'), ('p1', 'p9', 'p10', 'p1', 'p6', 'p2', 'p12', 'p1', 'p6'), ('p8', 'p2', 'p3', 'p8', 'p11', 'p5', 'p2', 'p14', 'p8'), ('p4', 'p2', 'p9', 'p4', 'p2', 'p12', 'p8', 'p1', 'p14')}\n",
            "Number of such lists are:-  76\n"
          ]
        }
      ],
      "source": [
        "import random as r\n",
        "L3=[]\n",
        "T=set()\n",
        "ProductList = {'p1':10, 'p2':15, 'p3':20, 'p4':25, 'p5':30, 'p6':35, 'p7':50, 'p8':40, 'p9':55, 'p10':60, 'p11':65, 'p12':75, 'p13':70,'p14':45}\n",
        "c=int(input(\"Enter the number of iterations\"))\n",
        "w=list(ProductList.keys())\n",
        "q=list(ProductList.values())\n",
        "a=r.randint(4,14)\n",
        "for i in range(c):\n",
        "  sum1=0\n",
        "  L1=[]\n",
        "  L=[]\n",
        "  for j in range(a):\n",
        "    b=r.randint(0,13)\n",
        "    if w[b] in ProductList:\n",
        "      L1.append(ProductList[w[b]])#L1 has values\n",
        "      L.append(w[b])#L has product \n",
        "  sum1 = sum(L1)\n",
        "  if(sum1>=290 and sum1<=310):\n",
        "    T.add(tuple(L))\n",
        "print(\"The list of products whose sum-of-price is between 290 and 310 is :- \",T)\n",
        "print(\"Number of such lists are:- \",len(T))"
      ]
    },
    {
      "cell_type": "code",
      "source": [],
      "metadata": {
        "id": "0X49NGo-GE8h"
      },
      "execution_count": 37,
      "outputs": []
    }
  ]
}